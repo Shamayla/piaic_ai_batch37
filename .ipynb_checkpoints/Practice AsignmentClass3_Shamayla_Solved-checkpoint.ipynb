{
 "cells": [
  {
   "cell_type": "markdown",
   "id": "1a206431",
   "metadata": {},
   "source": [
    "## AI - Batch 37 - Assignment 03\n",
    "\n",
    "Submitted by:\n",
    "\n",
    "    - Shamayla Shahzadi\n",
    "    - Roll No: PIAIC97078\n",
    "    - Email: shamayla.shahzadi@gmail.com"
   ]
  },
  {
   "cell_type": "markdown",
   "id": "f6519aad",
   "metadata": {},
   "source": [
    "# User input"
   ]
  },
  {
   "cell_type": "raw",
   "id": "948191fe",
   "metadata": {},
   "source": [
    "1. Take a sentence input from user using input function. Count occurence of a particular character/word in the sentence and print the message that the character appear this many times in the sentence.\n",
    "Like if user inputs> \"My name is Sana. I am an undergraduate student. I am learning Artificial Intellegence in PIAIC\"\n",
    "Your output should be:\n",
    "    I appears 5 times in your sentence\n",
    "Hint: nahi batounga use string methods.\n",
    "Note: Sana is a boy. His full name is SanaUllah😄"
   ]
  },
  {
   "cell_type": "code",
   "execution_count": 5,
   "id": "410cddeb",
   "metadata": {},
   "outputs": [
    {
     "name": "stdout",
     "output_type": "stream",
     "text": [
      "Please introduce yourself: My name is Shamayla. I am a student. I am learning AI in PIAIC\n",
      " 'I' appears 5 times in your sentence.\n"
     ]
    }
   ],
   "source": [
    "myString = input(\"Please introduce yourself: \")\n",
    "print(f\" 'I' appears {myString.count('I')} times in your sentence.\")"
   ]
  },
  {
   "cell_type": "raw",
   "id": "bf6c3672",
   "metadata": {},
   "source": [
    "2. Take a number input from user and print the square of that number. \n",
    "\n",
    "if a user inputs 10 Your output should be like:\n",
    "    The square of 10 is 100\n",
    "if a user inputs 5 Your output should be like:\n",
    "    The square of 5 is 25\n",
    "if a user inputs 2 Your output should be like:\n",
    "    The square of 2 is 4\n"
   ]
  },
  {
   "cell_type": "code",
   "execution_count": 6,
   "id": "c7a0c6e6",
   "metadata": {},
   "outputs": [
    {
     "name": "stdout",
     "output_type": "stream",
     "text": [
      "Enter any number to get square of it: 10\n",
      "The square of 10 is 100\n"
     ]
    }
   ],
   "source": [
    "user_input = int(input(\"Enter any number to get square of it: \"))\n",
    "print(f\"The square of {user_input} is {user_input**2}\")"
   ]
  },
  {
   "cell_type": "raw",
   "id": "0da0f529",
   "metadata": {},
   "source": [
    "3. Take two inputs from user using two input functions add these two numbers and print the result.\n",
    "For example if a user inputs 10 in first input, 20 in second input then your output mustbe like:\n",
    "    The sum of 10 and 20 is 30\n",
    "    \n",
    "For example if a user inputs 12 in first input, 30 in second input then your output mustbe like:\n",
    "    The sum of 12 and 30 is 42\n",
    "\n",
    "For example if a user inputs 100 in first input, 200 in second input then your out put mustbe like:\n",
    "    The sum of 100 and 200 is 300"
   ]
  },
  {
   "cell_type": "code",
   "execution_count": 7,
   "id": "37cb0aef",
   "metadata": {},
   "outputs": [
    {
     "name": "stdout",
     "output_type": "stream",
     "text": [
      "Enter first number: 100\n",
      "Enter 2nd number: 200\n",
      "The sum of 100 and 200 is 300\n"
     ]
    }
   ],
   "source": [
    "num1 = int(input(\"Enter first number: \"))\n",
    "num2 = int(input(\"Enter 2nd number: \"))\n",
    "print(f\"The sum of {num1} and {num2} is {num1 +num2}\")"
   ]
  },
  {
   "cell_type": "raw",
   "id": "f957eb50",
   "metadata": {},
   "source": [
    "4. Format a string to display a card like string:\n",
    "    \n",
    "            Presidential Initiative for AI & Computing\n",
    "                          ID CARD\n",
    "            Student Name   : Asad Ali\n",
    "            Father Name    : Amjad Ali\n",
    "            Date of Birth  : 01-01-2000\n",
    "            Course Enrolled: Artificial Intelligence\n",
    "            Batch          : 2022\n",
    "            Day            : Saturday \n",
    "            Centre         : Sir Syed University of Engg and Technology\n",
    "                \n",
    "Note: all the field values must be taken as user inputs and stored in variable"
   ]
  },
  {
   "cell_type": "code",
   "execution_count": 9,
   "id": "0f2d4d2d",
   "metadata": {},
   "outputs": [
    {
     "name": "stdout",
     "output_type": "stream",
     "text": [
      "Enter your name: Shamayla Shahzadi\n",
      "Enter your father name: Shaukat Ali\n",
      "Enter your dob: 05-02-1988\n",
      "Enter your course name: Artificial Intelligence\n",
      "Enter your batch number: 37\n",
      "Enter day: Monday\n",
      "Enter your center: Online Class - Rawalpindi\n",
      "\n",
      "        \n",
      "        Presidential Initiative for AI & Computing\n",
      "                        ID CARD\n",
      "        Student Name   : Shamayla Shahzadi\n",
      "        Father Name    : Shaukat Ali\n",
      "        Date of Birth  : 05-02-1988\n",
      "        Course Enrolled: Artificial Intelligence\n",
      "        Batch          : 37\n",
      "        Day            : Monday \n",
      "        Centre         : Online Class - Rawalpindi\n",
      "                     \n",
      "\n"
     ]
    }
   ],
   "source": [
    "student_name = input(\"Enter your name: \")\n",
    "student_father_name = input(\"Enter your father name: \")\n",
    "student_dob = input(\"Enter your dob: \")\n",
    "student_enrolled_course = input(\"Enter your course name: \")\n",
    "student_batch = input(\"Enter your batch number: \")\n",
    "today_day = input(\"Enter day: \")\n",
    "student_center = input(\"Enter your center: \")\n",
    "\n",
    "print(f\"\"\"\n",
    "        \n",
    "        Presidential Initiative for AI & Computing\n",
    "                        ID CARD\n",
    "        Student Name   : {student_name}\n",
    "        Father Name    : {student_father_name}\n",
    "        Date of Birth  : {student_dob}\n",
    "        Course Enrolled: {student_enrolled_course}\n",
    "        Batch          : {student_batch}\n",
    "        Day            : {today_day} \n",
    "        Centre         : {student_center}\n",
    "                     \n",
    "\"\"\")"
   ]
  },
  {
   "cell_type": "code",
   "execution_count": null,
   "id": "72c7f665",
   "metadata": {},
   "outputs": [],
   "source": []
  }
 ],
 "metadata": {
  "kernelspec": {
   "display_name": "Python 3 (ipykernel)",
   "language": "python",
   "name": "python3"
  },
  "language_info": {
   "codemirror_mode": {
    "name": "ipython",
    "version": 3
   },
   "file_extension": ".py",
   "mimetype": "text/x-python",
   "name": "python",
   "nbconvert_exporter": "python",
   "pygments_lexer": "ipython3",
   "version": "3.10.8"
  }
 },
 "nbformat": 4,
 "nbformat_minor": 5
}
