{
 "cells": [
  {
   "cell_type": "markdown",
   "id": "d2a4e251",
   "metadata": {},
   "source": [
    "## AI - Batch 37 - Assignment 06-b\n",
    "\n",
    "Submitted by:\n",
    "\n",
    "    - Shamayla Shahzadi\n",
    "    - Roll No: PIAIC97078\n",
    "    - Email: shamayla.shahzadi@gmail.com"
   ]
  },
  {
   "cell_type": "markdown",
   "id": "ac6f64a4",
   "metadata": {},
   "source": [
    "##### Task1: Mean \n",
    "Breifly decribe the term <b>Mean</b> (<i>dont write formula that sum of all numbers divide by total numbers) </i>\n",
    "Try to present some statistical view of mean(Average).\n",
    "You need to find the mean Average of the array(list). Not built-in function is allowed to use. \n",
    "\n",
    "Example : if user supplies a list [2,3,4,5,5,4,6,7,8,9]\n",
    "\n",
    "The output should be:\n",
    "\n",
    "The mean of the array [2,3,4,5,5,4,6,7,8,9] is 5.3"
   ]
  },
  {
   "cell_type": "markdown",
   "id": "6d492ba6",
   "metadata": {},
   "source": [
    "<b> Average Mean </b>\n",
    "Average is mainly used to give idea of data distribution with a single number, which can represent whole data set\n",
    "Mean is one type of average which represents dataset by taking into consideration whole dataset.\n",
    "</br>\n",
    "<b>Mean = Sum of all values/count of values</b>"
   ]
  },
  {
   "cell_type": "code",
   "execution_count": 63,
   "id": "93002a67",
   "metadata": {},
   "outputs": [
    {
     "name": "stdout",
     "output_type": "stream",
     "text": [
      "Enter list of integer number with comma separation: 5,8,4,5,6,4,7,4,5,6,5,5,3\n",
      "Mean = 5.153846153846154\n"
     ]
    }
   ],
   "source": [
    "#Input from user and convertion to int\n",
    "list_of_integer = input(\"Enter list of integer number with comma separation: \")\n",
    "mylist = list_of_integer.split(\",\")\n",
    "if \"\" in mylist:\n",
    "    index = mylist.index(\"\")\n",
    "    mylist.pop(index)\n",
    "myworkinglist = [int(x) for x in mylist]\n",
    "\n",
    "# Average Mean:\n",
    "total_values = len(myworkinglist)\n",
    "mean = sum(myworkinglist)/total_values\n",
    "print(f\"Mean = {mean}\")"
   ]
  },
  {
   "cell_type": "markdown",
   "id": "52bedbb9",
   "metadata": {},
   "source": [
    "#### Task2: Median\n",
    "    \n",
    "Breifly decribe the term <b>Median</b> (<i>dont write mathematical formula</i>)\n",
    "\n",
    "You need to find the Median of the array(list). Not built-in function is allowed to use.\n",
    "\n",
    "Example : if user supplies a list [2,3,4,5,5,4,6,7,8,9]\n",
    "\n",
    "The output should be:\n",
    "\n",
    "The median of the array [2,3,4,5,5,4,6,7,8,9] is 5.\n",
    "    "
   ]
  },
  {
   "cell_type": "markdown",
   "id": "2b21f824",
   "metadata": {},
   "source": [
    "<b> Average by Median </b>\n",
    "Another way to give representation of dataset. It represents the middle value of dataset to give idea about range of data around both sides of values(median number). This method is not much accurate because a really large number(outlier) can't be represented with median number\n",
    "</br>\n",
    "<b>Median = Middle number of even number of data points</b>\n",
    "<b>Median = Sum of middle numbers divided by 2 of odd numbers of data points</b>"
   ]
  },
  {
   "cell_type": "code",
   "execution_count": 64,
   "id": "20efeb48",
   "metadata": {},
   "outputs": [
    {
     "name": "stdout",
     "output_type": "stream",
     "text": [
      "List = [3, 4, 4, 4, 5, 5, 5, 5, 5, 6, 6, 7, 8]\n",
      "Median = 5\n"
     ]
    }
   ],
   "source": [
    "myworkinglist.sort()\n",
    "median = 0\n",
    "if len(myworkinglist)%2 == 0:\n",
    "    median_index = len(myworkinglist)//2\n",
    "    sum_values = myworkinglist[median_index-1] + myworkinglist[median_index]\n",
    "    median = sum_values//2\n",
    "else:\n",
    "    median_index = len(myworkinglist)//2\n",
    "    median = myworkinglist[median_index]\n",
    "    \n",
    "print(f\"List = {myworkinglist}\")\n",
    "print(f\"Median = {median}\")"
   ]
  },
  {
   "cell_type": "markdown",
   "id": "41484d7c",
   "metadata": {},
   "source": [
    "#### Task3: Mode \n",
    "Breifly decribe the term <b>Mode</b> (<i>dont write mathematical formula</i>)\n",
    "\n",
    "You need to find the Mode of the array(list). Not built-in function is allowed to use.\n",
    "\n",
    "Example : if user supplies a list [2,3,4,5,3,4,6,7,3,9]\n",
    "\n",
    "The output should be:\n",
    "\n",
    "The median of the array [2,3,4,5,3,4,6,7,8,3] is 3."
   ]
  },
  {
   "cell_type": "code",
   "execution_count": 73,
   "id": "e34c18f9",
   "metadata": {
    "scrolled": true
   },
   "outputs": [
    {
     "name": "stdout",
     "output_type": "stream",
     "text": [
      "List = [3, 4, 4, 4, 5, 5, 5, 5, 5, 6, 6, 7, 8]\n",
      "Mode = 5\n"
     ]
    }
   ],
   "source": [
    "# Your code goes here\n",
    "count = 0\n",
    "mode = 0\n",
    "myworkinglist_set = set(myworkinglist)\n",
    "for num in myworkinglist_set:\n",
    "    num_count = myworkinglist.count(num)\n",
    "    if num_count > count:\n",
    "        count = num_count\n",
    "        mode = num\n",
    "print(f\"List = {myworkinglist}\")\n",
    "print(f\"Mode = {mode}\")"
   ]
  },
  {
   "cell_type": "markdown",
   "id": "ad6fee2a",
   "metadata": {},
   "source": [
    "#### Task4: Sorting an array in ascending order\n",
    "If user supplies an array(list) like arr = [5, 2, 8, 7, 1]. \n",
    "\n",
    "\n",
    "The output should be like:\n",
    "\n",
    "Elements of original array: \n",
    "5 2 8 7 1 \n",
    "\n",
    "Elements of array sorted in ascending order: \n",
    "1 2 5 7 8 \n",
    "\n",
    "Note: We need to write our own sorting algorithm using sort function of list is not acceptable."
   ]
  },
  {
   "cell_type": "code",
   "execution_count": 108,
   "id": "c857c8ba",
   "metadata": {},
   "outputs": [
    {
     "name": "stdout",
     "output_type": "stream",
     "text": [
      "List before sort:               [5, 7, 3, 6, 7, 3, 4, 91, 0, 0, 2, 3]\n",
      "Sorted List in ascending order: [0, 0, 2, 3, 3, 3, 4, 5, 6, 7, 7, 91]\n"
     ]
    }
   ],
   "source": [
    "# Sorting list of integers\n",
    "# Sorted list by finding least number in the list and than switch positions with current iteration index in list\n",
    "random_list = [5,7,3,6,7,3,4,91,0,0,2,3]\n",
    "print(f\"List before sort:               {random_list}\")\n",
    "index = 0\n",
    "for num in random_list:\n",
    "    for i in range(index, len(random_list)):\n",
    "        if num <= random_list[i]:\n",
    "            pass\n",
    "        else:\n",
    "            num = random_list[i]\n",
    "            replace_index = i\n",
    "            flag = True\n",
    "    if flag == True:\n",
    "        random_list[replace_index] = random_list[index]\n",
    "        random_list[index] = num\n",
    "        index+=1\n",
    "        flag = False\n",
    "print(f\"Sorted List in ascending order: {random_list}\")"
   ]
  },
  {
   "cell_type": "markdown",
   "id": "b3134432",
   "metadata": {},
   "source": [
    "#### Task5: Sorting an array in descending order\n",
    "\n",
    "If user supplies an array(list) like arr = [5, 2, 8, 7, 1]. \n",
    "\n",
    "\n",
    "The output should be like:\n",
    "\n",
    "Elements of original array: \n",
    "5 2 8 7 1 \n",
    "\n",
    "Elements of array sorted in ascending order: \n",
    "8 7 5 2 1 \n",
    "\n",
    "Note: We need to write our own sorting algorithm. Using sort function of list is not acceptable.\n"
   ]
  },
  {
   "cell_type": "code",
   "execution_count": 109,
   "id": "70452f62",
   "metadata": {},
   "outputs": [
    {
     "name": "stdout",
     "output_type": "stream",
     "text": [
      "List before sort:                [5, 7, 3, 6, 7, 3, 4, 91, 0, 0, 2, 3]\n",
      "Sorted List in descending order: [91, 7, 7, 6, 5, 4, 3, 3, 3, 2, 0, 0]\n"
     ]
    }
   ],
   "source": [
    "# Sorting list of integers\n",
    "# Sorted list by finding greatest number in the list and than switch positions with current iteration index in list\n",
    "random_list = [5,7,3,6,7,3,4,91,0,0,2,3]\n",
    "print(f\"List before sort:                {random_list}\")\n",
    "index = 0\n",
    "for num in random_list:\n",
    "    for i in range(index, len(random_list)):\n",
    "        if num >= random_list[i]:\n",
    "            pass\n",
    "        else:\n",
    "            num = random_list[i]\n",
    "            replace_index = i\n",
    "            flag = True\n",
    "    if flag == True:\n",
    "        random_list[replace_index] = random_list[index]\n",
    "        random_list[index] = num\n",
    "        index+=1\n",
    "        flag = False\n",
    "print(f\"Sorted List in descending order: {random_list}\")"
   ]
  },
  {
   "cell_type": "markdown",
   "id": "fe5691a5",
   "metadata": {},
   "source": [
    "#### Task6: Finding the max of the inputted array \n",
    "\n",
    "If user supplies an array(list) like arr = [5, 2, 8, 7, 1]. \n",
    "\n",
    "\n",
    "The output should be like:\n",
    "\n",
    "Max value in the array is 8\n",
    "\n",
    "Note: We need to write our own max algorithm. use of python max function is not acceptable. "
   ]
  },
  {
   "cell_type": "code",
   "execution_count": 110,
   "id": "89ab79e3",
   "metadata": {},
   "outputs": [
    {
     "name": "stdout",
     "output_type": "stream",
     "text": [
      "List of integers: [5, 7, 3, 6, 7, 3, 100, 4, 91, 0, 0, 2, 3]\n",
      "Maximum number: 100\n"
     ]
    }
   ],
   "source": [
    "# Maximum number finder\n",
    "random_list = [5,7,3,6,7,3,100,4,91,0,0,2,3]\n",
    "print(f\"List of integers: {random_list}\")\n",
    "\n",
    "for num in random_list:\n",
    "    for i in range(len(random_list)):\n",
    "        if num >= random_list[i]:\n",
    "            pass\n",
    "        else:\n",
    "            num = random_list[i]\n",
    "print(f\"Maximum number: {num}\")"
   ]
  },
  {
   "cell_type": "markdown",
   "id": "04c3bb05",
   "metadata": {},
   "source": [
    "#### Task7: Finding the min of the inputted array\n",
    "If user supplies an array(list) like arr = [5, 2, 8, 7, 1].\n",
    "\n",
    "The output should be like:\n",
    "\n",
    "Min value in the array is 1\n",
    "\n",
    "Note: We need to write our own min algorithm. use of python min function is not acceptable."
   ]
  },
  {
   "cell_type": "code",
   "execution_count": 111,
   "id": "36abc9e4",
   "metadata": {},
   "outputs": [
    {
     "name": "stdout",
     "output_type": "stream",
     "text": [
      "List of integers: [5, 7, 3, 6, 7, 3, 100, 4, 91, 2, 3]\n",
      "Minimum number: 2\n"
     ]
    }
   ],
   "source": [
    "# Minimum number finder\n",
    "random_list = [5,7,3,6,7,3,100,4,91,2,3]\n",
    "print(f\"List of integers: {random_list}\")\n",
    "\n",
    "for num in random_list:\n",
    "    for i in range(len(random_list)):\n",
    "        if num <= random_list[i]:\n",
    "            pass\n",
    "        else:\n",
    "            num = random_list[i]\n",
    "print(f\"Minimum number: {num}\")"
   ]
  },
  {
   "cell_type": "code",
   "execution_count": null,
   "id": "7c856b2b",
   "metadata": {},
   "outputs": [],
   "source": []
  }
 ],
 "metadata": {
  "kernelspec": {
   "display_name": "Python 3 (ipykernel)",
   "language": "python",
   "name": "python3"
  },
  "language_info": {
   "codemirror_mode": {
    "name": "ipython",
    "version": 3
   },
   "file_extension": ".py",
   "mimetype": "text/x-python",
   "name": "python",
   "nbconvert_exporter": "python",
   "pygments_lexer": "ipython3",
   "version": "3.10.8"
  }
 },
 "nbformat": 4,
 "nbformat_minor": 5
}
