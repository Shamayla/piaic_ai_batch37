{
 "cells": [
  {
   "cell_type": "markdown",
   "id": "4843a549",
   "metadata": {},
   "source": [
    "## AI - Batch 37 - Assignment 04\n",
    "\n",
    "Submitted by:\n",
    "\n",
    "    - Shamayla Shahzadi\n",
    "    - Roll No: PIAIC97078\n",
    "    - Email: shamayla.shahzadi@gmail.com"
   ]
  },
  {
   "cell_type": "markdown",
   "id": "b5ec9d3e",
   "metadata": {},
   "source": [
    "### Task1:\n",
    "You need to code a program that prints numbers from 1 to 20 except multiple of 2 & 3.\n",
    "\n",
    "Hint: use \"modulo\" operator and \"and/or\" operators"
   ]
  },
  {
   "cell_type": "code",
   "execution_count": 4,
   "id": "a94f69b5",
   "metadata": {},
   "outputs": [
    {
     "name": "stdout",
     "output_type": "stream",
     "text": [
      "1\n",
      "5\n",
      "7\n",
      "11\n",
      "13\n",
      "17\n",
      "19\n"
     ]
    }
   ],
   "source": [
    "for i in range(1,21):\n",
    "    if i % 2 == 0 or i % 3 == 0:\n",
    "        pass\n",
    "    else:\n",
    "        print(i)"
   ]
  },
  {
   "cell_type": "markdown",
   "id": "b123a205",
   "metadata": {},
   "source": [
    "### Task2:\n",
    "Write a program that keep on accepting number from the user until user enters Zero. Display the sum and average of all the numbers.\n",
    "\n",
    "Hint: Use while loop with flag. "
   ]
  },
  {
   "cell_type": "code",
   "execution_count": 9,
   "id": "29296c1c",
   "metadata": {},
   "outputs": [
    {
     "name": "stdout",
     "output_type": "stream",
     "text": [
      "Enter number, to skip enter 0:5\n",
      "Enter number, to skip enter 0:3\n",
      "Enter number, to skip enter 0:6\n",
      "Enter number, to skip enter 0:2\n",
      "Enter number, to skip enter 0:9\n",
      "Enter number, to skip enter 0:3\n",
      "Enter number, to skip enter 0:0\n",
      "Sum of [5, 3, 6, 2, 9, 3] is: 28\n"
     ]
    }
   ],
   "source": [
    "flag = True\n",
    "sum_of_all = 0\n",
    "mylist = []\n",
    "while flag:\n",
    "    number = int(input(\"Enter number, to skip enter 0:\"))\n",
    "    if number == 0:\n",
    "        flag = False\n",
    "    else:\n",
    "        mylist.append(number)\n",
    "        sum_of_all += number\n",
    "print(f\"Sum of {mylist} is: {sum_of_all}\")"
   ]
  },
  {
   "cell_type": "markdown",
   "id": "9ea5024e",
   "metadata": {},
   "source": [
    "### Task3:\n",
    "Accept 10 numbers from the user and display their average.\n",
    "\n",
    "Hint: Use loop for accepting numbers or use split to take input in one go"
   ]
  },
  {
   "cell_type": "code",
   "execution_count": 13,
   "id": "5bebbbe8",
   "metadata": {},
   "outputs": [
    {
     "name": "stdout",
     "output_type": "stream",
     "text": [
      "Enter list of 10 integer number with comma separation: 5,7,3,4,5,3\n",
      "Average is: 4.5\n"
     ]
    }
   ],
   "source": [
    "#Input from user and convertion to int\n",
    "list_of_integer = input(\"Enter list of 10 integer number with comma separation: \")\n",
    "mylist = list_of_integer.split(\",\")\n",
    "if \"\" in mylist:\n",
    "    index = mylist.index(\"\")\n",
    "    mylist.pop(index)\n",
    "myworkinglist = [int(x) for x in mylist]\n",
    "\n",
    "average = sum(myworkinglist)/len(myworkinglist)\n",
    "print(f\"Average is: {average}\")"
   ]
  },
  {
   "cell_type": "markdown",
   "id": "e17466dd",
   "metadata": {},
   "source": [
    "### Task4:\n",
    "Write a program to display sum of odd numbers and even numbers that fall between 12 and 37(including both numbers)\n"
   ]
  },
  {
   "cell_type": "code",
   "execution_count": 15,
   "id": "d5715b5c",
   "metadata": {},
   "outputs": [
    {
     "name": "stdout",
     "output_type": "stream",
     "text": [
      "Sum of even [12, 14, 16, 18, 20, 22, 24, 26, 28, 30, 32, 34, 36]: 312\n",
      "Sum of odd [13, 15, 17, 19, 21, 23, 25, 27, 29, 31, 33, 35, 37]: 325\n"
     ]
    }
   ],
   "source": [
    "odd_list = []\n",
    "even_list = []\n",
    "even_sum = 0\n",
    "odd_sum = 0\n",
    "for i in range(12, 38):\n",
    "    if i % 2 == 0:\n",
    "        even_sum += i\n",
    "        even_list.append(i)\n",
    "    else:\n",
    "        odd_sum += i\n",
    "        odd_list.append(i)\n",
    "\n",
    "print(f\"Sum of even {even_list}: {even_sum}\")\n",
    "print(f\"Sum of odd {odd_list}: {odd_sum}\")"
   ]
  },
  {
   "cell_type": "markdown",
   "id": "4c64217d",
   "metadata": {},
   "source": [
    "### Task5:\n",
    "Write a program to print table of a number accepted from user.\n"
   ]
  },
  {
   "cell_type": "raw",
   "id": "0bf864bf",
   "metadata": {},
   "source": [
    "\n",
    "Output: \n",
    "7 * 1 = 7\n",
    "7 * 2 = 14\n",
    "7 * 3 = 21\n",
    "7 * 4 = 28\n",
    "7 * 5 = 35\n",
    "7 * 6 = 42\n",
    "7 * 7 = 49\n",
    "7 * 8 = 56\n",
    "7 * 9 = 63\n",
    "7 * 10 = 70\n",
    "           "
   ]
  },
  {
   "cell_type": "code",
   "execution_count": 21,
   "id": "3305bb3d",
   "metadata": {},
   "outputs": [
    {
     "name": "stdout",
     "output_type": "stream",
     "text": [
      "Enter number to print table: 23\n",
      "23 * 1 = 23\n",
      "23 * 2 = 46\n",
      "23 * 3 = 69\n",
      "23 * 4 = 92\n",
      "23 * 5 = 115\n",
      "23 * 6 = 138\n",
      "23 * 7 = 161\n",
      "23 * 8 = 184\n",
      "23 * 9 = 207\n",
      "23 * 10 = 230\n"
     ]
    }
   ],
   "source": [
    "table_of = int(input(\"Enter number to print table: \"))\n",
    "for i in range(1,11):\n",
    "    print(f\"{table_of} * {i} = {table_of * i}\")"
   ]
  },
  {
   "cell_type": "markdown",
   "id": "fc08df86",
   "metadata": {},
   "source": [
    "### Task6:\n",
    "Write a program to display product of the digits of a number accepted from the user.\n",
    "\n",
    "If user inputs:123 Outputs 6\n",
    "\n",
    "If user inputs: 567 Outputs 210"
   ]
  },
  {
   "cell_type": "code",
   "execution_count": 39,
   "id": "e793d4c9",
   "metadata": {},
   "outputs": [
    {
     "name": "stdout",
     "output_type": "stream",
     "text": [
      "Enter any integer number: 10002003\n",
      "Product of each digit in your number is: 6\n"
     ]
    }
   ],
   "source": [
    "random_number = int(input(\"Enter any integer number: \"))\n",
    "flag = True\n",
    "product = 1\n",
    "while flag:\n",
    "    remaining_number = random_number // 10\n",
    "    remainder = random_number % 10\n",
    "    random_number = remaining_number\n",
    "    if remainder != 0:\n",
    "        product *= remainder\n",
    "    if random_number == 0:\n",
    "        break\n",
    "print(f\"Product of each digit in your number is: {product}\")"
   ]
  },
  {
   "cell_type": "markdown",
   "id": "f041397e",
   "metadata": {},
   "source": [
    "### Task7: \n",
    "Write a program to print first 10 even numbers in reverse order."
   ]
  },
  {
   "cell_type": "code",
   "execution_count": 46,
   "id": "b639f15e",
   "metadata": {},
   "outputs": [
    {
     "data": {
      "text/plain": [
       "[10, 8, 6, 4, 2]"
      ]
     },
     "execution_count": 46,
     "metadata": {},
     "output_type": "execute_result"
    }
   ],
   "source": [
    "[i for i in range(11,1,-1) if i%2==0]"
   ]
  },
  {
   "cell_type": "markdown",
   "id": "37b679bb",
   "metadata": {},
   "source": [
    "### Task8:\n",
    "Write a program to find the sum of the digits of a number accepted from user\n",
    "\n",
    "If user inputs:123 Outputs 6\n",
    "\n",
    "If user inputs: 567 Outputs 18"
   ]
  },
  {
   "cell_type": "code",
   "execution_count": 50,
   "id": "adef66ce",
   "metadata": {},
   "outputs": [
    {
     "name": "stdout",
     "output_type": "stream",
     "text": [
      "Enter any integer number: 7800002\n",
      "Product of each digit in your number is: 17\n"
     ]
    }
   ],
   "source": [
    "random_number = int(input(\"Enter any integer number: \"))\n",
    "flag = True\n",
    "sum_of = 0\n",
    "while flag:\n",
    "    remaining_number = random_number // 10\n",
    "    remainder = random_number % 10\n",
    "    random_number = remaining_number\n",
    "    if remainder != 0:\n",
    "        sum_of += remainder\n",
    "    if random_number == 0:\n",
    "        break\n",
    "print(f\"Product of each digit in your number is: {sum_of}\")"
   ]
  },
  {
   "cell_type": "markdown",
   "id": "8b87f377",
   "metadata": {},
   "source": [
    "### Task9:\n",
    "Write a program that accepts a sentence and calculate the number of letters and digits.\n",
    "\n",
    "Suppose the following input is supplied to the program:\n",
    "\n",
    "hello world! 123\n",
    "\n",
    "Then, the output should be:\n",
    "\n",
    "LETTERS 10\n",
    "\n",
    "DIGITS 3\n"
   ]
  },
  {
   "cell_type": "code",
   "execution_count": 71,
   "id": "73835ab3",
   "metadata": {},
   "outputs": [
    {
     "name": "stdout",
     "output_type": "stream",
     "text": [
      "Enter any sentence with combination of numbers: Hello world! 123\n",
      "Letters: 10\n",
      "Digits: 3\n"
     ]
    }
   ],
   "source": [
    "sentence = input(\"Enter any sentence with combination of numbers: \")\n",
    "count_digit = 0\n",
    "count_letter = 0\n",
    "for letter in sentence:\n",
    "    if letter == \" \" or letter == \"!\":\n",
    "        pass\n",
    "    else:\n",
    "        if letter.isdigit() == True:\n",
    "            count_digit += 1\n",
    "        else:\n",
    "            count_letter += 1\n",
    "print(f\"Letters: {count_letter}\")\n",
    "print(f\"Digits: {count_digit}\")"
   ]
  },
  {
   "cell_type": "markdown",
   "id": "a25b412b",
   "metadata": {},
   "source": [
    "### Task10: \n",
    "You need to trace and make a list of all such numbers from1000 to 3000 in which all the digits are even numbers."
   ]
  },
  {
   "cell_type": "code",
   "execution_count": 77,
   "id": "a3c27a5e",
   "metadata": {},
   "outputs": [],
   "source": [
    "my_list = [i for i in range(1000, 3001) if i%2==0]"
   ]
  },
  {
   "cell_type": "markdown",
   "id": "ddc08744",
   "metadata": {},
   "source": [
    "### Task11: \n",
    "You need to write a program that counts the number of vowels in a given sentence as input from console. \n",
    "\n",
    "Suppose the following input is supplied to the program:\n",
    "\n",
    "Hello world! Practice makes perfect\n",
    "\n",
    "Then, the output should be:\n",
    "\n",
    "a appeared 2 times\n",
    "\n",
    "e appeared 5 times\n",
    "\n",
    "i appeared  1 time\n",
    "\n",
    "o appeared 2 times\n",
    "\n",
    "u appeared 0 time\n"
   ]
  },
  {
   "cell_type": "code",
   "execution_count": 83,
   "id": "0ed960fd",
   "metadata": {},
   "outputs": [
    {
     "name": "stdout",
     "output_type": "stream",
     "text": [
      "Enter any sentence: Hello world! Practice makes perfect\n",
      "a appeared 2 times\n",
      "e appeared 5 times\n",
      "i appeared 1 times\n",
      "o appeared 2 times\n",
      "u appeared 0 times\n"
     ]
    }
   ],
   "source": [
    "sentence = input(\"Enter any sentence: \")\n",
    "for i in ['a','e','i','o','u']:\n",
    "    print(f\"{i} appeared {sentence.count(i)} times\")\n",
    "    "
   ]
  },
  {
   "cell_type": "markdown",
   "id": "45a0c3c4",
   "metadata": {},
   "source": [
    "### Task12:\n",
    "You need to write a program that takes sequence of lines as input and prints the lines after making all characters in the sentence capitalized.\n",
    "\n",
    "Suppose the following input is supplied to the program:\n",
    "\n",
    "Hello world\n",
    "\n",
    "Practice makes perfect\n",
    "\n",
    "Then, the output should be:\n",
    "\n",
    "HELLO WORLD\n",
    "PRACTICE MAKES PERFECT"
   ]
  },
  {
   "cell_type": "code",
   "execution_count": 89,
   "id": "029fc3d6",
   "metadata": {},
   "outputs": [
    {
     "name": "stdout",
     "output_type": "stream",
     "text": [
      "Enter sentences: (Press '0' to quit):Hello world\n",
      "Enter sentences: (Press '0' to quit):Practice makes perfect\n",
      "Enter sentences: (Press '0' to quit):0\n",
      "HELLO WORLD PRACTICE MAKES PERFECT \n"
     ]
    }
   ],
   "source": [
    "to_upper = \"\"\n",
    "\n",
    "while True:\n",
    "    sentence = input(\"Enter sentences: (Press '0' to quit):\")\n",
    "    if sentence == '0':\n",
    "        break\n",
    "    to_upper += sentence + \" \"\n",
    "print(f\"{to_upper.upper()}\")\n"
   ]
  },
  {
   "cell_type": "markdown",
   "id": "a374068f",
   "metadata": {},
   "source": [
    "#### Task13:\n",
    "You need to write a code that takes a comma separated sequence of words as input and prints the words in a comma-separated sequence after sorting them alphabetically.\n",
    "\n",
    "Suppose the following input is supplied to the program:\n",
    "\n",
    "without,hello,bag,world\n",
    "\n",
    "Then, the output should be:\n",
    "\n",
    "bag,hello,without,world"
   ]
  },
  {
   "cell_type": "code",
   "execution_count": 6,
   "id": "e0506149",
   "metadata": {},
   "outputs": [
    {
     "name": "stdout",
     "output_type": "stream",
     "text": [
      "Enter list of words comma separated: without,hello,bag,world\n",
      "['bag', 'hello', 'without', 'world']\n"
     ]
    }
   ],
   "source": [
    "words =  input(\"Enter list of words comma separated: \")\n",
    "words_list = words.split(',')\n",
    "words_list.sort()\n",
    "print(words_list)"
   ]
  },
  {
   "cell_type": "markdown",
   "id": "0d9422e7",
   "metadata": {},
   "source": [
    "### Task14:\n",
    "You need code a program that calculates and prints the value according to the given formula:\n",
    "P = Square root of [(2 * A * B)/C]\n",
    "\n",
    "Following are the fixed values of A and B:\n",
    "\n",
    "A is 50. B is 30.\n",
    "\n",
    "The values of the literal C should be taken as console input to your program in a comma-separated sequence.\n",
    "\n",
    "Example:\n",
    "Let us assume the following comma separated input sequence is given to the program:\n",
    "100,150,180\n",
    "\n",
    "The output of the program should be:\n",
    "18,22,24"
   ]
  },
  {
   "cell_type": "code",
   "execution_count": 8,
   "id": "1b6731be",
   "metadata": {},
   "outputs": [
    {
     "name": "stdout",
     "output_type": "stream",
     "text": [
      "Enter values for C: 100,150,180\n",
      "[5, 4, 4]\n"
     ]
    }
   ],
   "source": [
    "import math\n",
    "\n",
    "numb_str = input(\"Enter values for C: \")\n",
    "numbers_lst = numb_str.split(',')\n",
    "A = 50\n",
    "B = 30\n",
    "result_list = []\n",
    "for C in numbers_lst:\n",
    "    P = round(math.sqrt(2 * A * B / int(C)))\n",
    "    result_list.append(P)\n",
    "\n",
    "print(result_list)"
   ]
  },
  {
   "cell_type": "markdown",
   "id": "87f9f13d",
   "metadata": {},
   "source": [
    "### Task15:\n",
    "You need to write a ocde in python that finds all such numbers which are divisible by 7 but are not a multiple of 5,\n",
    "between 2000 and 3200 (both included).\n",
    "\n",
    "Print the obtained numbers in a comma-separated sequence on a single line\n",
    "\n",
    "Hint: modulo operator, and/or operator, for loop /while loop"
   ]
  },
  {
   "cell_type": "code",
   "execution_count": 9,
   "id": "ba3d9d96",
   "metadata": {},
   "outputs": [
    {
     "name": "stdout",
     "output_type": "stream",
     "text": [
      "2002,2009,2016,2023,2037,2044,2051,2058,2072,2079,2086,2093,2107,2114,2121,2128,2142,2149,2156,2163,2177,2184,2191,2198,2212,2219,2226,2233,2247,2254,2261,2268,2282,2289,2296,2303,2317,2324,2331,2338,2352,2359,2366,2373,2387,2394,2401,2408,2422,2429,2436,2443,2457,2464,2471,2478,2492,2499,2506,2513,2527,2534,2541,2548,2562,2569,2576,2583,2597,2604,2611,2618,2632,2639,2646,2653,2667,2674,2681,2688,2702,2709,2716,2723,2737,2744,2751,2758,2772,2779,2786,2793,2807,2814,2821,2828,2842,2849,2856,2863,2877,2884,2891,2898,2912,2919,2926,2933,2947,2954,2961,2968,2982,2989,2996,3003,3017,3024,3031,3038,3052,3059,3066,3073,3087,3094,3101,3108,3122,3129,3136,3143,3157,3164,3171,3178,3192,3199,\n"
     ]
    }
   ],
   "source": [
    "obt_numbers = \"\"\n",
    "for numb in range(2000, 3201):\n",
    "    if numb % 7 == 0 and numb % 5 != 0:\n",
    "        obt_numbers += str(numb) + \",\"\n",
    "print(obt_numbers)"
   ]
  },
  {
   "cell_type": "markdown",
   "id": "f75c81d1",
   "metadata": {},
   "source": [
    "### Task16:\n",
    "With a given integral number n, write a program to generate a dictionary that contains (i, i*i) such that is an integral number between 1 and n (both included). and then the program should print the dictionary.\n",
    "\n",
    "Suppose the following input is supplied to the program:\n",
    "\n",
    "8\n",
    "\n",
    "Then, the output should be:\n",
    "\n",
    "{1: 1, 2: 4, 3: 9, 4: 16, 5: 25, 6: 36, 7: 49, 8: 64}"
   ]
  },
  {
   "cell_type": "code",
   "execution_count": 11,
   "id": "451bacfc",
   "metadata": {},
   "outputs": [
    {
     "name": "stdout",
     "output_type": "stream",
     "text": [
      "Enter any number: 8\n",
      "{1: 1, 2: 4, 3: 9, 4: 16, 5: 25, 6: 36, 7: 49, 8: 64}\n"
     ]
    }
   ],
   "source": [
    "number = int(input(\"Enter any number: \"))\n",
    "\n",
    "result_dict = {i:i*i for i in range(1,number+1)}\n",
    "print(result_dict)"
   ]
  },
  {
   "cell_type": "markdown",
   "id": "bd2b39a0",
   "metadata": {},
   "source": [
    "### Task17:\n",
    "You need to write a code which accepts a sequence of comma separated 4 digit binary numbers as its input and then check whether they are divisible by 5 or not. \n",
    "\n",
    "The numbers that are divisible by 5 are to be printed in a comma separated sequence.\n",
    "\n",
    "Example:\n",
    "\n",
    "0100,0011,1010,1001\n",
    "\n",
    "Then the output should be:\n",
    "1010\n",
    "\n",
    "Reference: \n",
    "1) https://www.datacamp.com/.../python-data-type-conversion\n",
    "\n",
    "2) https://stackoverflow.com/questions/21765779/converting-binary-to-decimal-integer-output?fbclid=IwAR3DD_oiq5pn99IjyxSJgojvB5W6M4JqQtv4EUl_IF_DtmuRXlP-DswcKAA"
   ]
  },
  {
   "cell_type": "code",
   "execution_count": 25,
   "id": "d88c2527",
   "metadata": {},
   "outputs": [
    {
     "name": "stdout",
     "output_type": "stream",
     "text": [
      "Enter list of 4 digit binary separated by comma: 1010,0100,0011,1010,1001,1010\n",
      "1010,1010,1010\n"
     ]
    }
   ],
   "source": [
    "number_str = input(\"Enter list of 4 digit binary separated by comma: \")\n",
    "number_str_list = number_str.split(\",\")\n",
    "result = \"\"\n",
    "for bin_number in number_str_list:\n",
    "    if (int(bin_number,2)) % 5 == 0:\n",
    "            result += bin_number + \",\"\n",
    "result = result.strip(\",\")\n",
    "print(result)"
   ]
  }
 ],
 "metadata": {
  "kernelspec": {
   "display_name": "Python 3 (ipykernel)",
   "language": "python",
   "name": "python3"
  },
  "language_info": {
   "codemirror_mode": {
    "name": "ipython",
    "version": 3
   },
   "file_extension": ".py",
   "mimetype": "text/x-python",
   "name": "python",
   "nbconvert_exporter": "python",
   "pygments_lexer": "ipython3",
   "version": "3.10.8"
  }
 },
 "nbformat": 4,
 "nbformat_minor": 5
}
